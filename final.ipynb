{
  "nbformat": 4,
  "nbformat_minor": 0,
  "metadata": {
    "colab": {
      "provenance": []
    },
    "kernelspec": {
      "name": "python3",
      "display_name": "Python 3"
    },
    "language_info": {
      "name": "python"
    }
  },
  "cells": [
    {
      "cell_type": "code",
      "execution_count": 1,
      "metadata": {
        "colab": {
          "base_uri": "https://localhost:8080/"
        },
        "id": "eZ8zweB4UbK4",
        "outputId": "7f9dca3a-756e-4504-ee36-6a9d9d66bd69"
      },
      "outputs": [
        {
          "output_type": "stream",
          "name": "stdout",
          "text": [
            "Collecting gym-anytrading\n",
            "  Downloading gym_anytrading-2.0.0-py3-none-any.whl.metadata (292 bytes)\n",
            "Collecting gymnasium>=0.29.1 (from gym-anytrading)\n",
            "  Downloading gymnasium-1.0.0-py3-none-any.whl.metadata (9.5 kB)\n",
            "Requirement already satisfied: numpy>=1.16.4 in /usr/local/lib/python3.10/dist-packages (from gym-anytrading) (1.26.4)\n",
            "Requirement already satisfied: pandas>=0.24.2 in /usr/local/lib/python3.10/dist-packages (from gym-anytrading) (2.2.2)\n",
            "Requirement already satisfied: matplotlib>=3.1.1 in /usr/local/lib/python3.10/dist-packages (from gym-anytrading) (3.8.0)\n",
            "Requirement already satisfied: cloudpickle>=1.2.0 in /usr/local/lib/python3.10/dist-packages (from gymnasium>=0.29.1->gym-anytrading) (3.1.0)\n",
            "Requirement already satisfied: typing-extensions>=4.3.0 in /usr/local/lib/python3.10/dist-packages (from gymnasium>=0.29.1->gym-anytrading) (4.12.2)\n",
            "Collecting farama-notifications>=0.0.1 (from gymnasium>=0.29.1->gym-anytrading)\n",
            "  Downloading Farama_Notifications-0.0.4-py3-none-any.whl.metadata (558 bytes)\n",
            "Requirement already satisfied: contourpy>=1.0.1 in /usr/local/lib/python3.10/dist-packages (from matplotlib>=3.1.1->gym-anytrading) (1.3.1)\n",
            "Requirement already satisfied: cycler>=0.10 in /usr/local/lib/python3.10/dist-packages (from matplotlib>=3.1.1->gym-anytrading) (0.12.1)\n",
            "Requirement already satisfied: fonttools>=4.22.0 in /usr/local/lib/python3.10/dist-packages (from matplotlib>=3.1.1->gym-anytrading) (4.55.0)\n",
            "Requirement already satisfied: kiwisolver>=1.0.1 in /usr/local/lib/python3.10/dist-packages (from matplotlib>=3.1.1->gym-anytrading) (1.4.7)\n",
            "Requirement already satisfied: packaging>=20.0 in /usr/local/lib/python3.10/dist-packages (from matplotlib>=3.1.1->gym-anytrading) (24.2)\n",
            "Requirement already satisfied: pillow>=6.2.0 in /usr/local/lib/python3.10/dist-packages (from matplotlib>=3.1.1->gym-anytrading) (11.0.0)\n",
            "Requirement already satisfied: pyparsing>=2.3.1 in /usr/local/lib/python3.10/dist-packages (from matplotlib>=3.1.1->gym-anytrading) (3.2.0)\n",
            "Requirement already satisfied: python-dateutil>=2.7 in /usr/local/lib/python3.10/dist-packages (from matplotlib>=3.1.1->gym-anytrading) (2.8.2)\n",
            "Requirement already satisfied: pytz>=2020.1 in /usr/local/lib/python3.10/dist-packages (from pandas>=0.24.2->gym-anytrading) (2024.2)\n",
            "Requirement already satisfied: tzdata>=2022.7 in /usr/local/lib/python3.10/dist-packages (from pandas>=0.24.2->gym-anytrading) (2024.2)\n",
            "Requirement already satisfied: six>=1.5 in /usr/local/lib/python3.10/dist-packages (from python-dateutil>=2.7->matplotlib>=3.1.1->gym-anytrading) (1.16.0)\n",
            "Downloading gym_anytrading-2.0.0-py3-none-any.whl (172 kB)\n",
            "\u001b[2K   \u001b[90m━━━━━━━━━━━━━━━━━━━━━━━━━━━━━━━━━━━━━━━━\u001b[0m \u001b[32m172.2/172.2 kB\u001b[0m \u001b[31m3.3 MB/s\u001b[0m eta \u001b[36m0:00:00\u001b[0m\n",
            "\u001b[?25hDownloading gymnasium-1.0.0-py3-none-any.whl (958 kB)\n",
            "\u001b[2K   \u001b[90m━━━━━━━━━━━━━━━━━━━━━━━━━━━━━━━━━━━━━━━━\u001b[0m \u001b[32m958.1/958.1 kB\u001b[0m \u001b[31m14.9 MB/s\u001b[0m eta \u001b[36m0:00:00\u001b[0m\n",
            "\u001b[?25hDownloading Farama_Notifications-0.0.4-py3-none-any.whl (2.5 kB)\n",
            "Installing collected packages: farama-notifications, gymnasium, gym-anytrading\n",
            "Successfully installed farama-notifications-0.0.4 gym-anytrading-2.0.0 gymnasium-1.0.0\n"
          ]
        }
      ],
      "source": [
        "#instalación del entorno TradingEnv\n",
        "!pip install gym-anytrading"
      ]
    },
    {
      "cell_type": "markdown",
      "source": [],
      "metadata": {
        "id": "SaNSCSL4eODY"
      }
    },
    {
      "cell_type": "code",
      "source": [
        "#crear entorno\n",
        "import gymnasium as gym\n",
        "import gym_anytrading\n",
        "\n",
        "env= gym.make('forex-v0')"
      ],
      "metadata": {
        "id": "osDrUxpDVY-o"
      },
      "execution_count": null,
      "outputs": []
    },
    {
      "cell_type": "code",
      "source": [
        "from gym_anytrading.datasets import FOREX_EURUSD_1H_ASK, STOCKS_GOOGL\n",
        "\n",
        "custom_env= gym.make('forex-v0', df= FOREX_EURUSD_1H_ASK,\n",
        "                     window_size=10,\n",
        "                     frame_bound=(10,300),\n",
        "                     unit_side='right'\n",
        "                     )\n"
      ],
      "metadata": {
        "id": "v3hqbRluWBkP"
      },
      "execution_count": null,
      "outputs": []
    },
    {
      "cell_type": "code",
      "source": [
        "print(\"env information:\")\n",
        "print(\"> shape:\", env.unwrapped.shape)\n",
        "print(\"> df.shape:\", env.unwrapped.df.shape)\n",
        "print(\"> prices.shape:\", env.unwrapped.prices.shape)\n",
        "print(\"> signal_features.shape:\", env.unwrapped.signal_features.shape)\n",
        "print(\"> max_possible_profit:\", env.unwrapped.max_possible_profit())\n",
        "\n",
        "print()\n",
        "print(\"custom_env information:\")\n",
        "print(\"> shape:\", custom_env.unwrapped.shape)\n",
        "print(\"> df.shape:\", custom_env.unwrapped.df.shape)\n",
        "print(\"> prices.shape:\", custom_env.unwrapped.prices.shape)\n",
        "print(\"> signal_features.shape:\", custom_env.unwrapped.signal_features.shape)\n",
        "print(\"> max_possible_profit:\", custom_env.unwrapped.max_possible_profit())"
      ],
      "metadata": {
        "colab": {
          "base_uri": "https://localhost:8080/"
        },
        "id": "1oAnaZ8rWqRA",
        "outputId": "87ed1208-a2ca-41ed-95d8-b1e513663fb0"
      },
      "execution_count": null,
      "outputs": [
        {
          "output_type": "stream",
          "name": "stdout",
          "text": [
            "env information:\n",
            "> shape: (24, 2)\n",
            "> df.shape: (6225, 5)\n",
            "> prices.shape: (6225,)\n",
            "> signal_features.shape: (6225, 2)\n",
            "> max_possible_profit: 4.054407219413578\n",
            "\n",
            "custom_env information:\n",
            "> shape: (10, 2)\n",
            "> df.shape: (6225, 5)\n",
            "> prices.shape: (300,)\n",
            "> signal_features.shape: (300, 2)\n",
            "> max_possible_profit: 1.1228998536878634\n"
          ]
        }
      ]
    }
  ]
}